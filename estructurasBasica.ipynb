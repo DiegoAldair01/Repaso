{
 "cells": [
  {
   "cell_type": "code",
   "execution_count": 26,
   "metadata": {},
   "outputs": [
    {
     "name": "stdout",
     "output_type": "stream",
     "text": [
      "[29, True]\n",
      "1\n",
      "0\n",
      "[1, 2, 3, 4, 5, 0, 6, 7, 8, 9, 10, 11]\n",
      "1\n",
      "2\n",
      "3\n",
      "4\n",
      "5\n",
      "0\n",
      "6\n",
      "7\n",
      "8\n",
      "9\n",
      "10\n",
      "11\n"
     ]
    }
   ],
   "source": [
    "# Listas\n",
    "lista = [29, True, 3.1415, \"Bal blalsa\"]\n",
    "\n",
    "print(lista[0:2])\n",
    "\n",
    "lista_nueva = [1, 2, 3, 4, 5, 6, 7, 8, 9, 10]\n",
    "lista_nueva.append(11)\n",
    "print(lista_nueva.count(1))\n",
    "print(lista_nueva.index(1))\n",
    "lista_nueva.insert(5, 0)\n",
    "print(lista_nueva)\n",
    "\n",
    "# Reccorrer una lista\n",
    "for numero in lista_nueva:\n",
    "    print(numero)"
   ]
  },
  {
   "cell_type": "code",
   "execution_count": 25,
   "metadata": {},
   "outputs": [
    {
     "name": "stdout",
     "output_type": "stream",
     "text": [
      "(1, 2, 3, 4, 5)\n",
      "1\n",
      "0\n",
      "1\n",
      "2\n",
      "3\n",
      "4\n",
      "5\n"
     ]
    }
   ],
   "source": [
    "# Tupla -> Ordenas, heterogeneas, inmutables\n",
    "tupla = (1, 2, 3, 4, 5)\n",
    "print(tupla)\n",
    "\n",
    "print(tupla.count(1))\n",
    "print(tupla.index(1))\n",
    "\n",
    "# Recorrer una tupla\n",
    "for numero in tupla:\n",
    "    print(numero)"
   ]
  },
  {
   "cell_type": "code",
   "execution_count": null,
   "metadata": {},
   "outputs": [
    {
     "name": "stdout",
     "output_type": "stream",
     "text": [
      "{1, 2, 3, 4, 5, 6, 7, 8, 9, 10}\n",
      "{1, 2, 3, 4, 5, 6, 7, 8, 9, 10, 11}\n",
      "{1, 2, 3, 4, 5, 6, 7, 9, 10, 11}\n",
      "Union:  {1, 2, 3, 4, 5, 6, 7, 8}\n",
      "Intersección:  {4, 5, 6, 7, 8}\n",
      "Diferencia:  {1, 2, 3}\n",
      "Diferencia simetrica {1, 2, 3}\n",
      "Subconjunto:  False\n",
      "Superconjunto:  True\n",
      "1\n",
      "2\n",
      "3\n",
      "4\n",
      "5\n",
      "6\n",
      "7\n",
      "9\n",
      "10\n",
      "11\n"
     ]
    }
   ],
   "source": [
    "# Conjuntos -> No indexados, no ordenados, no duplicados\n",
    "\n",
    "conjunto = set([1, 2, 3, 4, 5, 6, 7, 8, 9, 10]) # Se crea un conjunto a partir de una lista\n",
    "print(conjunto)\n",
    "conjunto.add(11)\n",
    "conjunto.add(1)\n",
    "\n",
    "print(conjunto)\n",
    "\n",
    "conjunto.remove(8) # Elimina un elemento del conjunto, se usa tambien discard\n",
    "print(conjunto)\n",
    "\n",
    "# Operaciones entre conjuntos\n",
    "conjuntoA = set([1, 2, 3, 4, 5, 6, 7, 8])\n",
    "conjuntoB = set([4, 5, 6, 7, 8])\n",
    "print(\"Union: \", (conjuntoA | conjuntoB)) # Union\n",
    "print(\"Intersección: \", (conjuntoA & conjuntoB)) # Interseccion, elementos que estan en A y B\n",
    "print(\"Diferencia: \", (conjuntoA - conjuntoB)) # Diferencia, elementos que estan en A y no en B\n",
    "print(\"Diferencia simetrica\", (conjuntoA ^ conjuntoB)) # Diferencia simetrica, elementos que estan en A y B pero no en ambos\n",
    "print(\"Subconjunto: \", conjuntoA<=conjuntoB) # Subconjunto, si A es subconjunto de B\n",
    "print(\"Superconjunto: \", conjuntoA>=conjuntoB) # Superconjunto, si A es superconjunto de B\n",
    "\n",
    "# Recorrer un conjunto\n",
    "for valor in conjunto:\n",
    "    print(valor)\n",
    "    \n",
    "\n",
    "\n"
   ]
  },
  {
   "cell_type": "code",
   "execution_count": 35,
   "metadata": {},
   "outputs": [
    {
     "name": "stdout",
     "output_type": "stream",
     "text": [
      "{1: 'Uno', 2: 'Dos', 3: 'Tres'}\n",
      "{'uno': 1, 'dos': 2, 'tres': 3}\n",
      "1\n",
      "1 Uno\n",
      "2 Dos\n",
      "3 Tres\n",
      "1\n",
      "2\n",
      "3\n",
      "dict_keys([1, 2, 3])\n",
      "dict_values(['Uno', 'Dos', 'Tres'])\n",
      "dict_items([(1, 'Uno'), (2, 'Dos'), (3, 'Tres')])\n",
      "{1: 'Uno', 3: 'Tres'}\n"
     ]
    }
   ],
   "source": [
    "# Diccionarios -> No ordenados, mutables, indexados\n",
    "diccionario = {1: \"Uno\", 2: \"Dos\", 3: \"Tres\"}   # Se crea un diccionario\n",
    "print(diccionario)\n",
    "\n",
    "# Otra forma de crear un diccionario\n",
    "diccionario_2 = dict(uno=1, dos=2, tres=3)\n",
    "print(diccionario_2)\n",
    "\n",
    "# Acceder a un elemento del diccionario\n",
    "print(diccionario_2[\"uno\"])\n",
    "\n",
    "# Modificar un elemento del diccionario\n",
    "diccionario_2[\"uno\"] = 1\n",
    "\n",
    "# Eliminar un elemento del diccionario\n",
    "del(diccionario_2[\"uno\"])\n",
    "\n",
    "# Recorrer un diccionario\n",
    "for clave, valor in diccionario.items():\n",
    "    print(clave, valor)\n",
    "\n",
    "# Recorrer las claves de un diccionario\n",
    "for clave in diccionario.keys():\n",
    "    print(clave)\n",
    "    \n",
    "# Funciones de los diccionarios\n",
    "print(diccionario.keys()) # Devuelve una lista con las claves del diccionario\n",
    "print(diccionario.values()) # Devuelve una lista con los valores del diccionario\n",
    "print(diccionario.items()) # Devuelve una lista de tuplas con clave y valor\n",
    "diccionario.pop(2) # Elimina un elemento del diccionario\n",
    "print(diccionario)\n",
    "diccionario.clear() # Elimina todos los elementos del diccionario\n"
   ]
  }
 ],
 "metadata": {
  "kernelspec": {
   "display_name": "Python 3",
   "language": "python",
   "name": "python3"
  },
  "language_info": {
   "codemirror_mode": {
    "name": "ipython",
    "version": 3
   },
   "file_extension": ".py",
   "mimetype": "text/x-python",
   "name": "python",
   "nbconvert_exporter": "python",
   "pygments_lexer": "ipython3",
   "version": "3.12.3"
  }
 },
 "nbformat": 4,
 "nbformat_minor": 2
}
